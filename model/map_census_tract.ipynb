{
 "cells": [
  {
   "cell_type": "code",
   "execution_count": 1,
   "metadata": {},
   "outputs": [],
   "source": [
    "import numpy as np\n",
    "import pandas as pd\n",
    "from collections import Counter\n",
    "import fiona\n",
    "import geopandas as gpd\n",
    "import matplotlib.pyplot as plt\n",
    "from geopy import distance\n",
    "from sklearn.linear_model import LinearRegression\n",
    "import statsmodels.api as sm\n",
    "import censusgeocode as cg\n",
    "from random import uniform\n",
    "from concurrent.futures import ThreadPoolExecutor\n",
    "from tqdm.notebook import tqdm\n",
    "from stargazer.stargazer import Stargazer\n",
    "from IPython.core.display import HTML\n",
    "\n",
    "import warnings\n",
    "warnings.filterwarnings('ignore')"
   ]
  },
  {
   "cell_type": "code",
   "execution_count": 2,
   "metadata": {},
   "outputs": [],
   "source": [
    "center = (39.952,-75.164)"
   ]
  },
  {
   "cell_type": "code",
   "execution_count": 4,
   "metadata": {},
   "outputs": [
    {
     "data": {
      "text/plain": [
       "{'SUFFIX': '',\n",
       " 'GEOID': '421010005002000',\n",
       " 'CENTLAT': '+39.9525419',\n",
       " 'BLOCK': '2000',\n",
       " 'AREAWATER': 0,\n",
       " 'STATE': '42',\n",
       " 'BASENAME': '2000',\n",
       " 'OID': '210701003164220',\n",
       " 'LSADC': 'BK',\n",
       " 'FUNCSTAT': 'S',\n",
       " 'INTPTLAT': '+39.9525419',\n",
       " 'NAME': 'Block 2000',\n",
       " 'OBJECTID': 3255873,\n",
       " 'TRACT': '000500',\n",
       " 'CENTLON': '-075.1638815',\n",
       " 'BLKGRP': '2',\n",
       " 'AREALAND': 44998,\n",
       " 'INTPTLON': '-075.1638815',\n",
       " 'MTFCC': 'G5040',\n",
       " 'LWBLKTYP': 'L',\n",
       " 'COUNTY': '101',\n",
       " 'CENT': (-75.1638815, 39.9525419),\n",
       " 'INTPT': (-75.1638815, 39.9525419)}"
      ]
     },
     "execution_count": 4,
     "metadata": {},
     "output_type": "execute_result"
    }
   ],
   "source": [
    "cg.coordinates(-75.164, 39.952)['2020 Census Blocks'][0]"
   ]
  },
  {
   "cell_type": "code",
   "execution_count": 5,
   "metadata": {},
   "outputs": [],
   "source": [
    "with open(\"../data/yelp_dataset/yelp_academic_dataset_business21.json\", \"r\") as f:\n",
    "    yelp = pd.read_json(f, orient=\"records\", lines=True)\n",
    "with open(\"../data/yelp_dataset/yelp_academic_dataset_checkin.json\", \"r\") as c:\n",
    "    checkin = pd.read_json(c, orient=\"records\", lines=True)"
   ]
  },
  {
   "cell_type": "code",
   "execution_count": 4,
   "metadata": {},
   "outputs": [],
   "source": [
    "years = range(2011,2022)\n",
    "def checkin_year(row,y):\n",
    "    if str(y) in row['date']:\n",
    "        return 1\n",
    "    else:\n",
    "        return 0\n",
    "for y in years:\n",
    "    #checkin.loc[:,'checkin_'+str(y)] = 0\n",
    "    checkin['checkin_'+str(y)] = checkin.apply(lambda row: checkin_year(row,y), axis=1)\n",
    "\n",
    "checkin.rename({'date':'checkin_date'},inplace=True,axis=1)\n",
    "result = pd.merge(yelp, checkin, how = 'left', on=[\"business_id\"])\n",
    "\n",
    "philly = result[result.city=='Philadelphia']\n",
    "philly.reset_index(drop=True,inplace=True)\n",
    "philly = philly[(philly.latitude.notna()) & (philly.longitude.notna())]\n",
    "center = (39.952,-75.164)\n",
    "philly['distance'] = philly.apply(lambda x: distance.distance((x['latitude'], x['longitude']), center).km, axis=1) \n",
    "philly['is_cbd'] = philly.apply(lambda x: 1 if x['distance'] <= 2 else 0, axis=1) \n",
    "philly.drop(['address', 'state', 'city', 'hours','attributes'], axis=1, inplace=True)\n",
    "\n",
    "for y in years[1:]:\n",
    "    philly['close_%s'%(y)] = \\\n",
    "        philly.apply(lambda x: \n",
    "                1 if (x['checkin_%s'%(y-1)]==1 and x['checkin_%s'%(y)]==0) \n",
    "                else 0, axis=1) \n",
    "    philly['open_%s'%(y)] = \\\n",
    "        philly.apply(lambda x: \n",
    "                1 if (x['checkin_%s'%(y)]==1 and x['checkin_%s'%(y-1)]==0) \n",
    "                else 0, axis=1) \n",
    "                \n",
    "status = philly[['close_%s'%(y) for y in years[1:]]+['open_%s'%(y) for y in years[1:]]]\n",
    "philly=philly[(status == 1).any(axis=1)]\n",
    "philly.reset_index(inplace=True,drop=True)\n",
    "\n",
    "def count(status, year, df):\n",
    "    count = df[status+'_'+str(year)].value_counts()[1]\n",
    "    count_cbd = df[df[status+'_'+str(year)]==1].is_cbd.value_counts()[1]\n",
    "    ratio = count_cbd/count * 100\n",
    "    return count, count_cbd,ratio\n",
    "    \n",
    "status = philly[['close_%s'%(y) for y in years[1:]]+['open_%s'%(y) for y in years[1:]]]\n",
    "philly=philly[(status == 1).any(axis=1)]\n",
    "philly.reset_index(inplace=True,drop=True)\n",
    "\n",
    "def count(status, year, df):\n",
    "    count = df[status+'_'+str(year)].value_counts()[1]\n",
    "    count_cbd = df[df[status+'_'+str(year)]==1].is_cbd.value_counts()[1]\n",
    "    ratio = count_cbd/count * 100\n",
    "    return count, count_cbd,ratio"
   ]
  },
  {
   "cell_type": "markdown",
   "metadata": {},
   "source": [
    "### Match census tract from coordinates"
   ]
  },
  {
   "cell_type": "code",
   "execution_count": null,
   "metadata": {},
   "outputs": [],
   "source": [
    "locations = philly[['latitude','longitude']]\n",
    "def geocode(row):\n",
    "    index, lat, lng = row\n",
    "    try:\n",
    "        census = cg.coordinates(lng, lat)['2020 Census Blocks'][0]\n",
    "\n",
    "        data = dict(geoid=census['GEOID'], \n",
    "                    state=census['STATE'], \n",
    "                    county=census['COUNTY'], \n",
    "                    tract=census['TRACT'], \n",
    "                    block=census['BLOCK'], \n",
    "                    lat=lat, \n",
    "                    lng=lng)\n",
    "\n",
    "    except Exception as e:\n",
    "        data = dict(lat=lat, \n",
    "                    lng=lng)\n",
    "\n",
    "    return data\n",
    "\n",
    "with ThreadPoolExecutor() as tpe:\n",
    "     data = list(tqdm(tpe.map(geocode, locations.itertuples()), total=len(locations)))\n",
    "df = pd.DataFrame.from_records(data)"
   ]
  },
  {
   "cell_type": "code",
   "execution_count": null,
   "metadata": {},
   "outputs": [],
   "source": [
    "# save for further use\n",
    "df.to_csv('../output/yelp_census_tract.csv', index=False)"
   ]
  },
  {
   "cell_type": "code",
   "execution_count": 3,
   "metadata": {},
   "outputs": [],
   "source": [
    "shape_map_path = r\"../data/business_licenses/business_licenses.shp\"\n",
    "shape_map = gpd.read_file(shape_map_path)\n",
    "license = shape_map.to_crs(epsg=4326)  # EPSG 4326 = WGS84 = https://epsg.io/4326\n",
    "food_l = license.licensetyp.str.contains('Food', case=False)\n",
    "food_license = license[food_l]\n",
    "food_license.reset_index(inplace=True, drop=True)\n",
    "food_license.loc[:, 'longitude'] = food_license.geometry.x\n",
    "food_license.loc[:, 'latitude'] = food_license.geometry.y\n",
    "food_license['open'] = food_license.initialiss.str[:4]\n",
    "food_license['close'] = food_license.inactiveda.str[:4]\n",
    "food_license = food_license[(food_license.latitude.notna()) & (food_license.longitude.notna())]\n",
    "food_license['distance'] = food_license.apply(lambda x: distance.distance((x['latitude'], x['longitude']), center).km, axis=1) \n",
    "food_license['is_cbd'] = food_license.apply(lambda x: 1 if x['distance'] <= 2 else 0, axis=1) "
   ]
  },
  {
   "cell_type": "markdown",
   "metadata": {},
   "source": [
    "### Match cbd's coordinates to census tracts"
   ]
  },
  {
   "cell_type": "code",
   "execution_count": 6,
   "metadata": {},
   "outputs": [
    {
     "data": {
      "application/vnd.jupyter.widget-view+json": {
       "model_id": "beb14a9a41af4e2c9cc0c6951c38fa9e",
       "version_major": 2,
       "version_minor": 0
      },
      "text/plain": [
       "  0%|          | 0/7212 [00:00<?, ?it/s]"
      ]
     },
     "metadata": {},
     "output_type": "display_data"
    }
   ],
   "source": [
    "locations = food_license[food_license.is_cbd==1][['latitude','longitude']] \n",
    "def geocode(row):\n",
    "    index, lat, lng = row\n",
    "    try:\n",
    "        census = cg.coordinates(lng, lat)['2020 Census Blocks'][0]\n",
    "\n",
    "        data = dict(geoid=census['GEOID'], \n",
    "                    state=census['STATE'], \n",
    "                    county=census['COUNTY'], \n",
    "                    tract=census['TRACT'], \n",
    "                    block=census['BLOCK'], \n",
    "                    lat=lat, \n",
    "                    lng=lng)\n",
    "\n",
    "    except Exception as e:\n",
    "        data = dict(lat=lat, \n",
    "                    lng=lng)\n",
    "\n",
    "    return data\n",
    "\n",
    "with ThreadPoolExecutor() as tpe:\n",
    "     data = list(tqdm(tpe.map(geocode, locations.itertuples()), total=len(locations)))\n",
    "df = pd.DataFrame.from_records(data)"
   ]
  },
  {
   "cell_type": "code",
   "execution_count": 8,
   "metadata": {},
   "outputs": [],
   "source": [
    "# save to csv\n",
    "df.to_csv('../output/cbd_census.csv') "
   ]
  },
  {
   "cell_type": "code",
   "execution_count": 4,
   "metadata": {},
   "outputs": [
    {
     "data": {
      "application/vnd.jupyter.widget-view+json": {
       "model_id": "b663d564dbe7417ba524c54ba75257ac",
       "version_major": 2,
       "version_minor": 0
      },
      "text/plain": [
       "  0%|          | 0/35606 [00:00<?, ?it/s]"
      ]
     },
     "metadata": {},
     "output_type": "display_data"
    }
   ],
   "source": [
    "locations = food_license[['latitude','longitude']] \n",
    "def geocode(row):\n",
    "    index, lat, lng = row\n",
    "    try:\n",
    "        census = cg.coordinates(lng, lat)['2020 Census Blocks'][0]\n",
    "\n",
    "        data = dict(geoid=census['GEOID'], \n",
    "                    state=census['STATE'], \n",
    "                    county=census['COUNTY'], \n",
    "                    tract=census['TRACT'], \n",
    "                    block=census['BLOCK'], \n",
    "                    lat=lat, \n",
    "                    lng=lng)\n",
    "\n",
    "    except Exception as e:\n",
    "        data = dict(lat=lat, \n",
    "                    lng=lng)\n",
    "\n",
    "    return data\n",
    "\n",
    "with ThreadPoolExecutor() as tpe:\n",
    "     data = list(tqdm(tpe.map(geocode, locations.itertuples()), total=len(locations)))\n",
    "df = pd.DataFrame.from_records(data)"
   ]
  },
  {
   "cell_type": "code",
   "execution_count": null,
   "metadata": {},
   "outputs": [],
   "source": [
    "# save for further use\n",
    "df.to_csv('../output/bl_census_tract.csv', index=False)"
   ]
  },
  {
   "cell_type": "code",
   "execution_count": 22,
   "metadata": {},
   "outputs": [],
   "source": [
    "with open(\"../output/df_missing.csv\", \"r\") as missing:\n",
    "    df_missing = pd.read_csv(missing)"
   ]
  },
  {
   "cell_type": "code",
   "execution_count": 23,
   "metadata": {},
   "outputs": [
    {
     "data": {
      "application/vnd.jupyter.widget-view+json": {
       "model_id": "f697c4432ae443dc81cd6dc2523d4991",
       "version_major": 2,
       "version_minor": 0
      },
      "text/plain": [
       "  0%|          | 0/1484 [00:00<?, ?it/s]"
      ]
     },
     "metadata": {},
     "output_type": "display_data"
    }
   ],
   "source": [
    "locations = df_missing[['latitude','longitude']] \n",
    "def geocode(row):\n",
    "    index, lat, lng = row\n",
    "    try:\n",
    "        census = cg.coordinates(lng, lat)['2020 Census Blocks'][0]\n",
    "\n",
    "        data = dict(geoid=census['GEOID'], \n",
    "                    state=census['STATE'], \n",
    "                    county=census['COUNTY'], \n",
    "                    tract=census['TRACT'], \n",
    "                    block=census['BLOCK'], \n",
    "                    lat=lat, \n",
    "                    lng=lng)\n",
    "\n",
    "    except Exception as e:\n",
    "        data = dict(lat=lat, \n",
    "                    lng=lng)\n",
    "\n",
    "    return data\n",
    "\n",
    "with ThreadPoolExecutor() as tpe:\n",
    "     data = list(tqdm(tpe.map(geocode, locations.itertuples()), total=len(locations)))\n",
    "df = pd.DataFrame.from_records(data)"
   ]
  },
  {
   "cell_type": "code",
   "execution_count": 24,
   "metadata": {},
   "outputs": [],
   "source": [
    "df = df.drop_duplicates(['lng','lat'])\n",
    "df= df[df.tract.notna()]"
   ]
  },
  {
   "cell_type": "code",
   "execution_count": 25,
   "metadata": {},
   "outputs": [],
   "source": [
    "df.reset_index(inplace=True,drop=True)"
   ]
  },
  {
   "cell_type": "code",
   "execution_count": 26,
   "metadata": {},
   "outputs": [],
   "source": [
    "df=df[['lat','lng','tract']]"
   ]
  },
  {
   "cell_type": "code",
   "execution_count": 29,
   "metadata": {},
   "outputs": [
    {
     "data": {
      "text/html": [
       "<div>\n",
       "<style scoped>\n",
       "    .dataframe tbody tr th:only-of-type {\n",
       "        vertical-align: middle;\n",
       "    }\n",
       "\n",
       "    .dataframe tbody tr th {\n",
       "        vertical-align: top;\n",
       "    }\n",
       "\n",
       "    .dataframe thead th {\n",
       "        text-align: right;\n",
       "    }\n",
       "</style>\n",
       "<table border=\"1\" class=\"dataframe\">\n",
       "  <thead>\n",
       "    <tr style=\"text-align: right;\">\n",
       "      <th></th>\n",
       "      <th>lat</th>\n",
       "      <th>lng</th>\n",
       "      <th>tract</th>\n",
       "    </tr>\n",
       "  </thead>\n",
       "  <tbody>\n",
       "    <tr>\n",
       "      <th>0</th>\n",
       "      <td>40.029113</td>\n",
       "      <td>-75.099840</td>\n",
       "      <td>039002</td>\n",
       "    </tr>\n",
       "    <tr>\n",
       "      <th>1</th>\n",
       "      <td>39.941119</td>\n",
       "      <td>-75.145943</td>\n",
       "      <td>001600</td>\n",
       "    </tr>\n",
       "    <tr>\n",
       "      <th>2</th>\n",
       "      <td>39.962607</td>\n",
       "      <td>-75.135648</td>\n",
       "      <td>014202</td>\n",
       "    </tr>\n",
       "    <tr>\n",
       "      <th>3</th>\n",
       "      <td>39.937315</td>\n",
       "      <td>-75.158016</td>\n",
       "      <td>002400</td>\n",
       "    </tr>\n",
       "    <tr>\n",
       "      <th>4</th>\n",
       "      <td>39.934656</td>\n",
       "      <td>-75.154656</td>\n",
       "      <td>002400</td>\n",
       "    </tr>\n",
       "    <tr>\n",
       "      <th>...</th>\n",
       "      <td>...</td>\n",
       "      <td>...</td>\n",
       "      <td>...</td>\n",
       "    </tr>\n",
       "    <tr>\n",
       "      <th>1353</th>\n",
       "      <td>40.010672</td>\n",
       "      <td>-75.151622</td>\n",
       "      <td>020102</td>\n",
       "    </tr>\n",
       "    <tr>\n",
       "      <th>1354</th>\n",
       "      <td>40.061092</td>\n",
       "      <td>-75.084019</td>\n",
       "      <td>030700</td>\n",
       "    </tr>\n",
       "    <tr>\n",
       "      <th>1355</th>\n",
       "      <td>39.928940</td>\n",
       "      <td>-75.178738</td>\n",
       "      <td>003701</td>\n",
       "    </tr>\n",
       "    <tr>\n",
       "      <th>1356</th>\n",
       "      <td>39.919372</td>\n",
       "      <td>-75.187334</td>\n",
       "      <td>003800</td>\n",
       "    </tr>\n",
       "    <tr>\n",
       "      <th>1357</th>\n",
       "      <td>39.951128</td>\n",
       "      <td>-75.177119</td>\n",
       "      <td>000702</td>\n",
       "    </tr>\n",
       "  </tbody>\n",
       "</table>\n",
       "<p>1358 rows × 3 columns</p>\n",
       "</div>"
      ],
      "text/plain": [
       "            lat        lng   tract\n",
       "0     40.029113 -75.099840  039002\n",
       "1     39.941119 -75.145943  001600\n",
       "2     39.962607 -75.135648  014202\n",
       "3     39.937315 -75.158016  002400\n",
       "4     39.934656 -75.154656  002400\n",
       "...         ...        ...     ...\n",
       "1353  40.010672 -75.151622  020102\n",
       "1354  40.061092 -75.084019  030700\n",
       "1355  39.928940 -75.178738  003701\n",
       "1356  39.919372 -75.187334  003800\n",
       "1357  39.951128 -75.177119  000702\n",
       "\n",
       "[1358 rows x 3 columns]"
      ]
     },
     "execution_count": 29,
     "metadata": {},
     "output_type": "execute_result"
    }
   ],
   "source": [
    "df"
   ]
  },
  {
   "cell_type": "code",
   "execution_count": 28,
   "metadata": {},
   "outputs": [],
   "source": [
    "# save for further use\n",
    "df.to_csv('../output/missing_census_tract.csv', index=False)"
   ]
  }
 ],
 "metadata": {
  "interpreter": {
   "hash": "e89691e4663d647bc11c8a9859f5cdd56224e794f653bdd6c406cd9780fe241b"
  },
  "kernelspec": {
   "display_name": "Python 3.9.11 64-bit",
   "language": "python",
   "name": "python3"
  },
  "language_info": {
   "codemirror_mode": {
    "name": "ipython",
    "version": 3
   },
   "file_extension": ".py",
   "mimetype": "text/x-python",
   "name": "python",
   "nbconvert_exporter": "python",
   "pygments_lexer": "ipython3",
   "version": "3.9.11"
  },
  "orig_nbformat": 4
 },
 "nbformat": 4,
 "nbformat_minor": 2
}
