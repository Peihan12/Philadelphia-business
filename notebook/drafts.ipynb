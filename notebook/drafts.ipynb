{
 "cells": [
  {
   "cell_type": "code",
   "execution_count": null,
   "metadata": {},
   "outputs": [],
   "source": [
    "#use review data\n",
    "x_r = range(2015,2021)\n",
    "y1r =[100*sum(philly[philly.most_recent_review.dt.year==y].is_cbd)/len(philly[philly.most_recent_review.dt.year==y])\n",
    "        for y in x_r]\n",
    "y2r = [100*sum(philly[philly.earliest_review.dt.year==y].is_cbd)/len(philly[philly.earliest_review.dt.year==y])\n",
    "        for y in x_r]\n",
    "fig = plt.figure(figsize=(13,5))\n",
    "ax = fig.add_subplot(121)\n",
    "ax_o = fig.add_subplot(122)\n",
    "ax.bar(x_r,[len(philly[philly.most_recent_review.dt.year==y]) for y in x_r],color=\"tab:cyan\", width= 0.5 )\n",
    "ax.bar(x_r,[sum(philly[philly.most_recent_review.dt.year==y].is_cbd) for y in x_r],color=\"tab:blue\", width= 0.5 )\n",
    "ax.set_xlabel(\"Closed\",fontsize=14)\n",
    "ax.set_ylabel(\"Business Count\",fontsize=14)\n",
    "#ax.set_ylim(0,1200)\n",
    "ax2=ax.twinx()\n",
    "ax2.plot(x_r,y1r, color=\"tab:red\",marker=\"o\" )\n",
    "ax2.set_ylim(0,100)\n",
    "ax.set_xticks(x_r, minor=False)\n",
    "ax_o.bar(x_r,[len(philly[philly.earliest_review.dt.year==y]) for y in x_r],color=\"tab:cyan\", width= 0.5 )\n",
    "ax_o.bar(x_r,[sum(philly[philly.earliest_review.dt.year==y].is_cbd) for y in x_r],color=\"tab:blue\", width= 0.5 )\n",
    "ax_o.set_xlabel(\"Open\",fontsize=14)\n",
    "#ax_o.set_ylim(0,1200)\n",
    "ax2=ax_o.twinx()\n",
    "ax2.plot(x_r,y2r, color=\"tab:red\",marker=\"o\" )\n",
    "ax2.set_ylabel(\"Percentage of CBD (%)\",fontsize=14)\n",
    "ax2.set_ylim(0,100)\n",
    "ax_o.set_xticks(x_r, minor=False)\n",
    "\n",
    "fig.suptitle(f'Change in Food Business Count ')\n",
    "fig.supxlabel('Year')\n",
    "plt.show()"
   ]
  },
  {
   "cell_type": "code",
   "execution_count": null,
   "metadata": {},
   "outputs": [],
   "source": [
    "review_json_path = '../data/yelp_dataset/yelp_academic_dataset_review.json'\n",
    "reviews = []\n",
    "r_dtypes = {\"stars\": np.float16}\n",
    "with open(review_json_path, \"r\") as f:\n",
    "    reader = pd.read_json(f, orient=\"records\", lines=True, \n",
    "                          dtype=r_dtypes, chunksize=1000)\n",
    "        \n",
    "    for chunk in tqdm(reader):\n",
    "        reduced_chunk = chunk.drop(columns=['review_id', 'user_id'])\\\n",
    "                             .query(\"`date` >= '2015-12-01'\")\n",
    "        reviews.append(reduced_chunk)\n",
    "    \n",
    "reviews = pd.concat(reviews, ignore_index=True)\n",
    "\n",
    "reviews_time = reviews.groupby(['business_id']).agg({'date': [np.min,np.max]}).droplevel(axis=1, level=0).reset_index()\n",
    "reviews_time.rename({'amin':'earliest_review', 'amax':'most_recent_review'},axis=1,inplace=True)"
   ]
  }
 ],
 "metadata": {
  "language_info": {
   "name": "python"
  },
  "orig_nbformat": 4
 },
 "nbformat": 4,
 "nbformat_minor": 2
}
