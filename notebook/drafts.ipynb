{
 "cells": [
  {
   "cell_type": "code",
   "execution_count": null,
   "metadata": {},
   "outputs": [],
   "source": [
    "#use review data\n",
    "x_r = range(2015,2021)\n",
    "y1r =[100*sum(philly[philly.most_recent_review.dt.year==y].is_cbd)/len(philly[philly.most_recent_review.dt.year==y])\n",
    "        for y in x_r]\n",
    "y2r = [100*sum(philly[philly.earliest_review.dt.year==y].is_cbd)/len(philly[philly.earliest_review.dt.year==y])\n",
    "        for y in x_r]\n",
    "fig = plt.figure(figsize=(13,5))\n",
    "ax = fig.add_subplot(121)\n",
    "ax_o = fig.add_subplot(122)\n",
    "ax.bar(x_r,[len(philly[philly.most_recent_review.dt.year==y]) for y in x_r],color=\"tab:cyan\", width= 0.5 )\n",
    "ax.bar(x_r,[sum(philly[philly.most_recent_review.dt.year==y].is_cbd) for y in x_r],color=\"tab:blue\", width= 0.5 )\n",
    "ax.set_xlabel(\"Closed\",fontsize=14)\n",
    "ax.set_ylabel(\"Business Count\",fontsize=14)\n",
    "#ax.set_ylim(0,1200)\n",
    "ax2=ax.twinx()\n",
    "ax2.plot(x_r,y1r, color=\"tab:red\",marker=\"o\" )\n",
    "ax2.set_ylim(0,100)\n",
    "ax.set_xticks(x_r, minor=False)\n",
    "ax_o.bar(x_r,[len(philly[philly.earliest_review.dt.year==y]) for y in x_r],color=\"tab:cyan\", width= 0.5 )\n",
    "ax_o.bar(x_r,[sum(philly[philly.earliest_review.dt.year==y].is_cbd) for y in x_r],color=\"tab:blue\", width= 0.5 )\n",
    "ax_o.set_xlabel(\"Open\",fontsize=14)\n",
    "#ax_o.set_ylim(0,1200)\n",
    "ax2=ax_o.twinx()\n",
    "ax2.plot(x_r,y2r, color=\"tab:red\",marker=\"o\" )\n",
    "ax2.set_ylabel(\"Percentage of CBD (%)\",fontsize=14)\n",
    "ax2.set_ylim(0,100)\n",
    "ax_o.set_xticks(x_r, minor=False)\n",
    "\n",
    "fig.suptitle(f'Change in Food Business Count ')\n",
    "fig.supxlabel('Year')\n",
    "plt.show()"
   ]
  },
  {
   "cell_type": "code",
   "execution_count": null,
   "metadata": {},
   "outputs": [],
   "source": [
    "review_json_path = '../data/yelp_dataset/yelp_academic_dataset_review.json'\n",
    "reviews = []\n",
    "r_dtypes = {\"stars\": np.float16}\n",
    "with open(review_json_path, \"r\") as f:\n",
    "    reader = pd.read_json(f, orient=\"records\", lines=True, \n",
    "                          dtype=r_dtypes, chunksize=1000)\n",
    "        \n",
    "    for chunk in tqdm(reader):\n",
    "        reduced_chunk = chunk.drop(columns=['review_id', 'user_id'])\\\n",
    "                             .query(\"`date` >= '2015-12-01'\")\n",
    "        reviews.append(reduced_chunk)\n",
    "    \n",
    "reviews = pd.concat(reviews, ignore_index=True)\n",
    "\n",
    "reviews_time = reviews.groupby(['business_id']).agg({'date': [np.min,np.max]}).droplevel(axis=1, level=0).reset_index()\n",
    "reviews_time.rename({'amin':'earliest_review', 'amax':'most_recent_review'},axis=1,inplace=True)"
   ]
  },
  {
   "cell_type": "code",
   "execution_count": null,
   "metadata": {},
   "outputs": [],
   "source": [
    "def define_status(row,status):\n",
    "    l = []\n",
    "    for y in years[1:]:\n",
    "        if row[status+'_%s'%(y)] ==1:\n",
    "            l.append()\n",
    "            return str(y)\n",
    "        else:\n",
    "            continue\n",
    "       \n",
    "for s in ['close','open']:\n",
    "    philly[s] = philly.apply(lambda x: define_status(x,s),axis=1)"
   ]
  },
  {
   "cell_type": "code",
   "execution_count": null,
   "metadata": {},
   "outputs": [],
   "source": [
    "#use business license data\n",
    "x = years[1:]\n",
    "def all(status,y):\n",
    "    return len(philly[philly[status]==str(y)])\n",
    "def cbd(status,y):\n",
    "    return sum(philly[philly[status]==str(y)].is_cbd)\n",
    "\n",
    "y1_all = [all('close',y) for y in x]\n",
    "y1_cbd = [cbd('close',y) for y in x]\n",
    "y2_all = [all('open',y) for y in x]\n",
    "y2_cbd = [cbd('open',y) for y in x]\n",
    "\n",
    "y1 =[100*cbd('close',y)/all('close',y) for y in x]\n",
    "y2 = [100* cbd('open',y)/all('open',y)  for y in x]\n",
    "\n",
    "fig = plt.figure(figsize=(13,5))\n",
    "ax = fig.add_subplot(121)\n",
    "ax_o = fig.add_subplot(122)\n",
    "ax.bar(x,y1_all,color=\"tab:cyan\", width= 0.5 )\n",
    "ax.bar(x,y1_cbd,color=\"tab:blue\", width= 0.5 )\n",
    "\n",
    "ax.set_xlabel(\"Closed\",fontsize=14)\n",
    "ax.set_ylabel(\"Business Count\",fontsize=14)\n",
    "ax.set_ylim(0,1800)\n",
    "ax2=ax.twinx()\n",
    "ax2.plot(x,y1, color=\"tab:red\",marker=\"o\" )\n",
    "ax2.set_ylim(20,50)\n",
    "\n",
    "ax.set_xticks(x, minor=False)\n",
    "ax_o.bar(x,y2_all,color=\"tab:cyan\", width= 0.5 )\n",
    "ax_o.bar(x,y2_cbd,color=\"tab:blue\", width= 0.5 )\n",
    "ax_o.set_xlabel(\"New Open\",fontsize=14)\n",
    "ax_o.set_ylim(0,1800)\n",
    "ax2=ax_o.twinx()\n",
    "ax2.plot(x,y2, color=\"tab:red\",marker=\"o\" )\n",
    "ax2.set_ylabel(\"Rate of Businesses in CBD (%)\",fontsize=14)\n",
    "ax2.set_ylim(20,50)\n",
    "ax_o.set_xticks(x, minor=False)\n",
    "ax.vlines(2019, 0, 4000, linestyles='--', color='b')\n",
    "ax_o.vlines(2019, 0, 4000, linestyles='--', color='b')\n",
    "\n",
    "fig.suptitle(f'Change in all Business Count')\n",
    "fig.supxlabel('Year')\n",
    "plt.savefig(\"../output/licenses.png\")\n",
    "plt.show()"
   ]
  },
  {
   "cell_type": "code",
   "execution_count": null,
   "metadata": {},
   "outputs": [],
   "source": [
    "def gen_census(row):\n",
    "    map = cg.coordinates(x=row.longitude , y=row.latitude)\n",
    "    return map['2018 State Legislative Districts - Upper'][0]['GEOID']\n",
    "philly['census_track']= philly.apply(gen_census, axis=1)"
   ]
  },
  {
   "cell_type": "code",
   "execution_count": null,
   "metadata": {},
   "outputs": [],
   "source": [
    "cor = list(zip(philly.longitude,philly.latitude))\n",
    "cen = []\n",
    "for co in cor:\n",
    "    info = cg.coordinates(x=co[0], y=co[1])\n",
    "    code = info['2018 State Legislative Districts - Upper'][0]['GEOID']\n",
    "    cen.append(code)"
   ]
  },
  {
   "cell_type": "code",
   "execution_count": null,
   "metadata": {},
   "outputs": [],
   "source": [
    "df_tract['is_cbd'] = 0\n",
    "d = {}\n",
    "for c in df_tract.tract.unique():\n",
    "    r = df_yelp[df_yelp.tract==c].is_cbd.sum()/len(df_yelp[df_yelp.tract==c].is_cbd)\n",
    "    if r> 0.5:\n",
    "        d[c] = 1\n",
    "    else:\n",
    "        d[c] = 0\n",
    "\n",
    "df_tract['is_cbd'] = df_tract.apply(lambda x: d[x.tract], axis=1)\n",
    "df_tract['post_covid'] = df_tract.apply(lambda x: 1 if x.year>=2020 else 0, axis=1)"
   ]
  },
  {
   "cell_type": "code",
   "execution_count": null,
   "metadata": {},
   "outputs": [],
   "source": [
    "# fit model\n",
    "x = df_tract.loc[:,['is_cbd', 'post_covid','DID']]\n",
    "y = df_tract['New Open']\n",
    "model = LinearRegression().fit(x, y)\n",
    "X2 = sm.add_constant(x)\n",
    "est = sm.OLS(y, X2).fit()\n",
    "model= est.get_robustcov_results(cov_type='HC2', use_t=None)\n",
    "print(model.summary())\n",
    "#save output\n",
    "plt.rc('figure', figsize=(12, 7))\n",
    "plt.text(0.01, 0.05, str(model.summary()), {'fontsize': 10}, fontproperties = 'monospace') # approach improved by OP -> monospace!\n",
    "plt.axis('off')\n",
    "plt.tight_layout()\n",
    "plt.savefig('../output/yelp_open.png')\n",
    "plt.close()\n",
    "write_path = '../output/yelp_open.csv'\n",
    "with open(write_path, 'w') as f:\n",
    "    f.write(model.summary().as_csv())"
   ]
  },
  {
   "cell_type": "code",
   "execution_count": 1,
   "metadata": {},
   "outputs": [
    {
     "name": "stdout",
     "output_type": "stream",
     "text": [
      "Requirement already satisfied: simplejson in c:\\users\\dell\\anaconda3\\lib\\site-packages (3.17.6)\n"
     ]
    },
    {
     "name": "stderr",
     "output_type": "stream",
     "text": [
      "WARNING: Ignoring invalid distribution -ffi (c:\\users\\dell\\anaconda3\\lib\\site-packages)\n",
      "WARNING: Ignoring invalid distribution -ffi (c:\\users\\dell\\anaconda3\\lib\\site-packages)\n",
      "WARNING: Ignoring invalid distribution -ffi (c:\\users\\dell\\anaconda3\\lib\\site-packages)\n",
      "WARNING: Ignoring invalid distribution -ffi (c:\\users\\dell\\anaconda3\\lib\\site-packages)\n",
      "WARNING: Ignoring invalid distribution -ffi (c:\\users\\dell\\anaconda3\\lib\\site-packages)\n",
      "WARNING: Ignoring invalid distribution -ffi (c:\\users\\dell\\anaconda3\\lib\\site-packages)\n",
      "WARNING: You are using pip version 22.0.3; however, version 22.0.4 is available.\n",
      "You should consider upgrading via the 'C:\\Users\\dell\\anaconda3\\python.exe -m pip install --upgrade pip' command.\n"
     ]
    }
   ],
   "source": [
    "!pip install simplejson"
   ]
  },
  {
   "cell_type": "code",
   "execution_count": 1,
   "metadata": {},
   "outputs": [
    {
     "ename": "NameError",
     "evalue": "name 'file' is not defined",
     "output_type": "error",
     "traceback": [
      "\u001b[1;31m---------------------------------------------------------------------------\u001b[0m",
      "\u001b[1;31mNameError\u001b[0m                                 Traceback (most recent call last)",
      "\u001b[1;32m~\\AppData\\Local\\Temp/ipykernel_24624/3314179539.py\u001b[0m in \u001b[0;36m<module>\u001b[1;34m\u001b[0m\n\u001b[0;32m      3\u001b[0m \u001b[1;32mimport\u001b[0m \u001b[0mmatplotlib\u001b[0m\u001b[1;33m.\u001b[0m\u001b[0mpyplot\u001b[0m \u001b[1;32mas\u001b[0m \u001b[0mplt\u001b[0m\u001b[1;33m\u001b[0m\u001b[1;33m\u001b[0m\u001b[0m\n\u001b[0;32m      4\u001b[0m \u001b[1;33m\u001b[0m\u001b[0m\n\u001b[1;32m----> 5\u001b[1;33m \u001b[0mbx\u001b[0m \u001b[1;33m=\u001b[0m \u001b[0mfile\u001b[0m\u001b[1;33m(\u001b[0m\u001b[1;34m\"nyc.json\"\u001b[0m\u001b[1;33m)\u001b[0m\u001b[1;33m\u001b[0m\u001b[1;33m\u001b[0m\u001b[0m\n\u001b[0m\u001b[0;32m      6\u001b[0m \u001b[0mbx\u001b[0m \u001b[1;33m=\u001b[0m \u001b[0mjson\u001b[0m\u001b[1;33m.\u001b[0m\u001b[0mloads\u001b[0m\u001b[1;33m(\u001b[0m\u001b[0mbx\u001b[0m\u001b[1;33m.\u001b[0m\u001b[0mread\u001b[0m\u001b[1;33m(\u001b[0m\u001b[1;33m)\u001b[0m\u001b[1;33m)\u001b[0m\u001b[1;33m\u001b[0m\u001b[1;33m\u001b[0m\u001b[0m\n\u001b[0;32m      7\u001b[0m \u001b[1;33m\u001b[0m\u001b[0m\n",
      "\u001b[1;31mNameError\u001b[0m: name 'file' is not defined"
     ]
    }
   ],
   "source": [
    "import simplejson as json\n",
    "import numpy as np\n",
    "import matplotlib.pyplot as plt\n",
    "\n",
    "bx = file(\"nyc.json\")\n",
    "bx = json.loads(bx.read())\n",
    "\n",
    "polygons = bx['features']\n",
    "\n",
    "\n",
    "censusTracts = np.array([bx['features'][k]['geometry']['coordinates'][0] for k in range(len(bx['features']))]) \n",
    "\n",
    "for x in range(len(censusTracts)):\n",
    "\tplt.plot(np.array(censusTracts[x])[:, 0] , np.array(censusTracts[x])[:, 1]  , '-')\n",
    "\n",
    "plt.xlim(xmin=900000, xmax=1100000)\n",
    "plt.ylim(ymin=120000, ymax=280000)\n",
    "plt.axes().set_aspect('equal', 'datalim')\n",
    "plt.show()\n"
   ]
  }
 ],
 "metadata": {
  "interpreter": {
   "hash": "96a5b2c8615b6af4330dccc0a175f9e1be44a5aebebe076415aefa8805d772c0"
  },
  "kernelspec": {
   "display_name": "Python 3.8.12 ('base')",
   "language": "python",
   "name": "python3"
  },
  "language_info": {
   "codemirror_mode": {
    "name": "ipython",
    "version": 3
   },
   "file_extension": ".py",
   "mimetype": "text/x-python",
   "name": "python",
   "nbconvert_exporter": "python",
   "pygments_lexer": "ipython3",
   "version": "3.8.12"
  },
  "orig_nbformat": 4
 },
 "nbformat": 4,
 "nbformat_minor": 2
}
