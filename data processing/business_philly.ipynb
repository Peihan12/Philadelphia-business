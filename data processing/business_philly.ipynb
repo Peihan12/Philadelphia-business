{
  "nbformat": 4,
  "nbformat_minor": 0,
  "metadata": {
    "colab": {
      "name": "business_philly.ipynb",
      "provenance": [],
      "collapsed_sections": []
    },
    "kernelspec": {
      "name": "python3",
      "display_name": "Python 3"
    },
    "language_info": {
      "name": "python"
    }
  },
  "cells": [
    {
      "cell_type": "code",
      "source": [
        "!pip install geopandas"
      ],
      "metadata": {
        "id": "FKPZSRd6G6Gi"
      },
      "execution_count": null,
      "outputs": []
    },
    {
      "cell_type": "code",
      "source": [
        "import pandas as pd\n",
        "import geopandas as gpd\n",
        "from collections import Counter\n",
        "\n",
        "import warnings\n",
        "warnings.filterwarnings(\"ignore\", category=RuntimeWarning) "
      ],
      "metadata": {
        "id": "r6pbb0V2HP81"
      },
      "execution_count": null,
      "outputs": []
    },
    {
      "cell_type": "code",
      "execution_count": 1,
      "metadata": {
        "colab": {
          "base_uri": "https://localhost:8080/"
        },
        "id": "DoHbw_W4FM-S",
        "outputId": "9492c07a-b2a2-47ad-dfaf-fdf9e634f938"
      },
      "outputs": [
        {
          "output_type": "stream",
          "name": "stdout",
          "text": [
            "Mounted at /content/gdrive\n"
          ]
        }
      ],
      "source": [
        "from google.colab import drive\n",
        "drive.mount('/content/gdrive')"
      ]
    },
    {
      "cell_type": "code",
      "source": [
        "yelp = r'/content/gdrive/MyDrive/phily21.csv'\n",
        "data_y = pd.read_csv(yelp)"
      ],
      "metadata": {
        "id": "aCOlssmAI9kl"
      },
      "execution_count": 24,
      "outputs": []
    },
    {
      "cell_type": "code",
      "source": [
        "food_y = data_y[data_y.categories.notna()].categories.str.contains('food|restaurant',case=False)\n",
        "food_yelp = data_y[data_y.categories.notna()][food_y]\n",
        "food_yelp.reset_index(inplace=True, drop=True)"
      ],
      "metadata": {
        "id": "vFpxxMCKOVxs"
      },
      "execution_count": 96,
      "outputs": []
    },
    {
      "cell_type": "code",
      "source": [
        "shape_map_path = r\"/content/gdrive/MyDrive/business_licenses/business_licenses.shp\"\n",
        "shape_map = gpd.read_file(shape_map_path)\n",
        "\n",
        "shape_map_geo = shape_map.to_crs(epsg=4326)  # EPSG 4326 = WGS84 = https://epsg.io/4326"
      ],
      "metadata": {
        "colab": {
          "base_uri": "https://localhost:8080/"
        },
        "id": "Id3xhtQ-aTRp",
        "outputId": "4e28e12a-93d5-492e-98c7-8da28cf73d75"
      },
      "execution_count": 55,
      "outputs": [
        {
          "output_type": "stream",
          "name": "stdout",
          "text": [
            "40.04114330614028 40.04114330614028\n"
          ]
        }
      ]
    },
    {
      "cell_type": "code",
      "source": [
        "geo_food = shape_map_geo.licensetyp.str.contains('Food', case=False)\n",
        "geo_food_license = shape_map_geo[geo_food]\n",
        "geo_food_license.reset_index(inplace=True, drop=True)"
      ],
      "metadata": {
        "id": "bTmJYBZyotOb"
      },
      "execution_count": 97,
      "outputs": []
    },
    {
      "cell_type": "code",
      "source": [
        "geo_food_license.loc[:, 'longitude'] = geo_food_license.geometry.x\n",
        "geo_food_license.loc[:, 'latitude'] = geo_food_license.geometry.y"
      ],
      "metadata": {
        "colab": {
          "base_uri": "https://localhost:8080/"
        },
        "id": "WNUdgi6YgXzb",
        "outputId": "083a21b6-20e1-43c2-ab08-4e8d58162c7c"
      },
      "execution_count": 98,
      "outputs": [
        {
          "output_type": "stream",
          "name": "stderr",
          "text": [
            "/usr/local/lib/python3.7/dist-packages/geopandas/geodataframe.py:1351: SettingWithCopyWarning: \n",
            "A value is trying to be set on a copy of a slice from a DataFrame.\n",
            "Try using .loc[row_indexer,col_indexer] = value instead\n",
            "\n",
            "See the caveats in the documentation: https://pandas.pydata.org/pandas-docs/stable/user_guide/indexing.html#returning-a-view-versus-a-copy\n",
            "  super().__setitem__(key, value)\n"
          ]
        }
      ]
    },
    {
      "cell_type": "code",
      "source": [
        "geo_food_license[geo_food_license.initialiss.str[:4]=='2019'].shape"
      ],
      "metadata": {
        "colab": {
          "base_uri": "https://localhost:8080/"
        },
        "id": "1aTBnOmWwYY2",
        "outputId": "8a17d2f9-4057-4cc3-ca69-59e48c18d57f"
      },
      "execution_count": 121,
      "outputs": [
        {
          "output_type": "execute_result",
          "data": {
            "text/plain": [
              "(1992, 33)"
            ]
          },
          "metadata": {},
          "execution_count": 121
        }
      ]
    },
    {
      "cell_type": "code",
      "source": [
        "import numpy as np\n",
        "import matplotlib.pyplot as plt\n",
        "data = [[30, 25, 50, 20],\n",
        "[40, 23, 51, 17],\n",
        "[35, 22, 45, 19]]\n",
        "X = np.arange(4)\n",
        "fig = plt.figure()\n",
        "ax = fig.add_axes([0,0,1,1])\n",
        "ax.bar(X + 0.00, data[0], color = 'b', width = 0.25)\n",
        "ax.bar(X + 0.25, data[1], color = 'g', width = 0.25)\n",
        "ax.bar(X + 0.50, data[2], color = 'r', width = 0.25)"
      ],
      "metadata": {
        "id": "Z9oVa9B2EN_o"
      },
      "execution_count": null,
      "outputs": []
    }
  ]
}